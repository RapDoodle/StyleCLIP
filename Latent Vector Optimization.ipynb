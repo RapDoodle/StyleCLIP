{
 "cells": [
  {
   "cell_type": "markdown",
   "metadata": {
    "id": "4J1lmK2Viqey"
   },
   "source": [
    "# Text-Guided Editing of Images (Using CLIP and StyleGAN)"
   ]
  },
  {
   "cell_type": "code",
   "execution_count": null,
   "metadata": {
    "cellView": "form",
    "id": "NZzVvsrKivwl"
   },
   "outputs": [],
   "source": [
    "import os"
   ]
  },
  {
   "cell_type": "code",
   "execution_count": null,
   "metadata": {
    "cellView": "form",
    "id": "XTAVTULlq87j"
   },
   "outputs": [],
   "source": [
    "experiment_type = 'edit' #@param ['edit', 'free_generation']\n",
    "\n",
    "description = 'A person with purple hair' #@param {type:\"string\"}\n",
    "\n",
    "latent_path = None #@param {type:\"string\"}\n",
    "\n",
    "optimization_steps = 50 #@param {type:\"number\"}\n",
    "\n",
    "l2_lambda = 0.008 #@param {type:\"number\"}\n",
    "\n",
    "id_lambda = 0.005 #@param {type:\"number\"}\n",
    "\n",
    "stylespace = False #@param {type:\"boolean\"}\n",
    "\n",
    "create_video = True #@param {type:\"boolean\"}\n"
   ]
  },
  {
   "cell_type": "code",
   "execution_count": null,
   "metadata": {
    "cellView": "form",
    "id": "cuXs6QD8mKjI"
   },
   "outputs": [],
   "source": [
    "use_seed = True #@param {type:\"boolean\"}\n",
    "\n",
    "seed = 2 #@param {type: \"number\"}"
   ]
  },
  {
   "cell_type": "code",
   "execution_count": null,
   "metadata": {
    "cellView": "form",
    "id": "CcBz_eEomF7Q"
   },
   "outputs": [],
   "source": [
    "#@title Additional Arguments\n",
    "args = {\n",
    "    \"description\": description,\n",
    "    \"ckpt\": \"stylegan2-ffhq-config-f.pt\",\n",
    "    \"stylegan_size\": 1024,\n",
    "    \"lr_rampup\": 0.05,\n",
    "    \"lr\": 0.1,\n",
    "    \"step\": optimization_steps,\n",
    "    \"mode\": experiment_type,\n",
    "    \"l2_lambda\": l2_lambda,\n",
    "    \"id_lambda\": id_lambda,\n",
    "    'work_in_stylespace': stylespace,\n",
    "    \"latent_path\": latent_path,\n",
    "    \"truncation\": 0.7,\n",
    "    \"save_intermediate_image_every\": 1 if create_video else 20,\n",
    "    \"results_dir\": \"results\",\n",
    "    \"ir_se50_weights\": \"model_ir_se50.pth\",\n",
    "    \"device\": 'cpu'\n",
    "}"
   ]
  },
  {
   "cell_type": "code",
   "execution_count": null,
   "metadata": {
    "colab": {
     "base_uri": "https://localhost:8080/"
    },
    "id": "WT9JRl8hnT1l",
    "outputId": "b3bd2b47-38a0-42d2-b674-29fd88064b76"
   },
   "outputs": [],
   "source": [
    "if use_seed:\n",
    "  import torch\n",
    "  torch.manual_seed(seed)\n",
    "from optimization.run_optimization import main\n",
    "from argparse import Namespace\n",
    "result = main(Namespace(**args))"
   ]
  },
  {
   "cell_type": "code",
   "execution_count": null,
   "metadata": {
    "cellView": "form",
    "colab": {
     "base_uri": "https://localhost:8080/",
     "height": 563
    },
    "id": "h15xcbHwnW0U",
    "outputId": "7acf4b8e-278d-41e5-c06c-2f7480937536"
   },
   "outputs": [],
   "source": [
    "#@title Visualize Result\n",
    "from torchvision.utils import make_grid\n",
    "from torchvision.transforms import ToPILImage\n",
    "result_image = ToPILImage()(make_grid(result.detach().cpu(), normalize=True, scale_each=True, range=(-1, 1), padding=0))\n",
    "h, w = result_image.size\n",
    "result_image.resize((h // 2, w // 2))"
   ]
  },
  {
   "cell_type": "code",
   "execution_count": null,
   "metadata": {
    "cellView": "form",
    "id": "lNRSSi0IcQID",
    "pycharm": {
     "name": "#%%\n"
    }
   },
   "outputs": [],
   "source": [
    "#@title Create and Download Video\n",
    "\n",
    "# !ffmpeg -r 15 -i results/%05d.jpg -c:v libx264 -vf fps=25 -pix_fmt yuv420p out.mp4"
   ]
  }
 ],
 "metadata": {
  "accelerator": "GPU",
  "colab": {
   "name": "playground.ipynb",
   "provenance": []
  },
  "kernelspec": {
   "display_name": "Python 3 (ipykernel)",
   "language": "python",
   "name": "python3"
  },
  "language_info": {
   "codemirror_mode": {
    "name": "ipython",
    "version": 3
   },
   "file_extension": ".py",
   "mimetype": "text/x-python",
   "name": "python",
   "nbconvert_exporter": "python",
   "pygments_lexer": "ipython3",
   "version": "3.10.8"
  }
 },
 "nbformat": 4,
 "nbformat_minor": 1
}
