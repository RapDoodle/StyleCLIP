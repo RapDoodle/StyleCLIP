{
 "cells": [
  {
   "cell_type": "markdown",
   "metadata": {
    "id": "IncTbhtkAEvy"
   },
   "source": [
    "# Text-Guided Editing of Images (Using CLIP and StyleGAN)"
   ]
  },
  {
   "cell_type": "code",
   "execution_count": null,
   "metadata": {
    "id": "E4Whhw8pZYtg"
   },
   "outputs": [],
   "source": [
    "import os"
   ]
  },
  {
   "cell_type": "code",
   "execution_count": null,
   "metadata": {
    "id": "VPrB9xDGaaMP"
   },
   "outputs": [],
   "source": [
    "from utils import ensure_checkpoint_exists\n",
    "from mapper.scripts.inference import run"
   ]
  },
  {
   "cell_type": "markdown",
   "metadata": {
    "id": "jysy8MjiCco8"
   },
   "source": [
    "We provide several pretrained mappers. We also provide sample latent codes, of 6 celebs. 'n_images' allows to choose the number of latent codes (from the path provided in 'latent_path') that will be edited. If n_images is None then all the latent codes will be edited."
   ]
  },
  {
   "cell_type": "code",
   "execution_count": null,
   "metadata": {
    "cellView": "form",
    "colab": {
     "base_uri": "https://localhost:8080/"
    },
    "id": "ixBiRP0s6Lxy",
    "outputId": "aaa158f1-fee8-4104-d6dc-f27ed8f0b7e6"
   },
   "outputs": [],
   "source": [
    "meta_data = {\n",
    "  'afro': ['afro', False, False, True], \n",
    "  'angry': ['angry', False, False, True], \n",
    "  'Beyonce': ['beyonce', False, False, False], \n",
    "  'bobcut': ['bobcut', False, False, True], \n",
    "  'bowlcut': ['bowlcut', False, False, True], \n",
    "  'curly hair': ['curly_hair', False, False, True], \n",
    "  'Hilary Clinton': ['hilary_clinton', False, False, False],\n",
    "  'Jhonny Depp': ['depp', False, False, False], \n",
    "  'mohawk': ['mohawk', False, False, True],\n",
    "  'purple hair': ['purple_hair', False, False, False], \n",
    "  'surprised': ['surprised', False, False, True], \n",
    "  'Taylor Swift': ['taylor_swift', False, False, False],\n",
    "  'trump': ['trump', False, False, False], \n",
    "  'Mark Zuckerberg': ['zuckerberg', False, False, False]    \n",
    "}\n",
    "\n",
    "edit_type = 'Mark Zuckerberg' #@param ['afro', 'angry', 'Beyonce', 'bobcut', 'bowlcut', 'curly hair', 'Hilary Clinton', 'Jhonny Depp', 'mohawk', 'purple hair', 'surprised', 'Taylor Swift', 'trump', 'Mark Zuckerberg']\n",
    "edit_id = meta_data[edit_type][0]\n",
    "os.makedirs(\"mapper/pretrained\", exist_ok=True)\n",
    "ensure_checkpoint_exists(f\"mapper/pretrained/{edit_id}.pt\")\n",
    "latent_path = \"example_celebs.pt\" #@param {type:\"string\"}\n",
    "if latent_path == \"example_celebs.pt\":\n",
    "  ensure_checkpoint_exists(\"example_celebs.pt\")\n",
    "n_images =  1#@param\n",
    "\n",
    "args = {\n",
    "    \"work_in_stylespace\": False,\n",
    "    \"exp_dir\": \"results/\",\n",
    "    \"checkpoint_path\": f\"mapper/pretrained/{edit_id}.pt\",\n",
    "    \"couple_outputs\": True,\n",
    "    \"mapper_type\": \"LevelsMapper\",\n",
    "    \"no_coarse_mapper\": meta_data[edit_type][1],\n",
    "    \"no_medium_mapper\": meta_data[edit_type][2],\n",
    "    \"no_fine_mapper\": meta_data[edit_type][3],\n",
    "    \"stylegan_size\": 1024,\n",
    "    \"test_batch_size\": 1,\n",
    "    \"latents_test_path\": latent_path,\n",
    "    \"test_workers\": 1,\n",
    "    \"n_images\": n_images,\n",
    "    \"device\": 'cpu'\n",
    "}\n"
   ]
  },
  {
   "cell_type": "code",
   "execution_count": null,
   "metadata": {
    "colab": {
     "base_uri": "https://localhost:8080/"
    },
    "id": "3g6eiXsMdYf5",
    "outputId": "378d6b9b-d6f5-4a07-80a1-a12c6988a4b2"
   },
   "outputs": [],
   "source": [
    "from argparse import Namespace\n",
    "run(Namespace(**args))"
   ]
  },
  {
   "cell_type": "code",
   "execution_count": null,
   "metadata": {
    "colab": {
     "base_uri": "https://localhost:8080/",
     "height": 531
    },
    "id": "5hRV-kvVdega",
    "outputId": "76b99cbc-c9e9-40c8-8d16-b580c30d0d6e"
   },
   "outputs": [],
   "source": [
    "from PIL import Image\n",
    "result = Image.open(f\"results/inference_results/00000.jpg\")\n",
    "result = result.resize((int(result.width * 0.5), int(result.height * 0.5)))\n",
    "grid = Image.new(\"RGB\", (result.width, result.height * n_images))\n",
    "grid.paste(result, (0, 0))\n",
    "for i in range(1, n_images):\n",
    "  result = Image.open(f\"results/inference_results/{str(i).zfill(5)}.jpg\")\n",
    "  result = result.resize((int(result.width * 0.5), int(result.height * 0.5)))\n",
    "  grid.paste(result, (0, int(result.height * i)))\n",
    "grid"
   ]
  }
 ],
 "metadata": {
  "accelerator": "GPU",
  "colab": {
   "name": "mapper_playground.ipynb",
   "provenance": [],
   "toc_visible": true
  },
  "kernelspec": {
   "display_name": "Python 3 (ipykernel)",
   "language": "python",
   "name": "python3"
  },
  "language_info": {
   "codemirror_mode": {
    "name": "ipython",
    "version": 3
   },
   "file_extension": ".py",
   "mimetype": "text/x-python",
   "name": "python",
   "nbconvert_exporter": "python",
   "pygments_lexer": "ipython3",
   "version": "3.10.8"
  }
 },
 "nbformat": 4,
 "nbformat_minor": 1
}
